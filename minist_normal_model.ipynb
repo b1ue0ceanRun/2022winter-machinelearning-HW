{
  "nbformat": 4,
  "nbformat_minor": 0,
  "metadata": {
    "colab": {
      "name": "minist_normal.ipynb",
      "provenance": [],
      "authorship_tag": "ABX9TyOCBAyM4iqp90wlvndHZ014",
      "include_colab_link": true
    },
    "kernelspec": {
      "name": "python3",
      "display_name": "Python 3"
    },
    "language_info": {
      "name": "python"
    }
  },
  "cells": [
    {
      "cell_type": "markdown",
      "metadata": {
        "id": "view-in-github",
        "colab_type": "text"
      },
      "source": [
        "<a href=\"https://colab.research.google.com/github/godrun666/2022winter-machinelearning-HW/blob/main/minist_normal_model.ipynb\" target=\"_parent\"><img src=\"https://colab.research.google.com/assets/colab-badge.svg\" alt=\"Open In Colab\"/></a>"
      ]
    },
    {
      "cell_type": "code",
      "execution_count": 31,
      "metadata": {
        "id": "ZdNrJcdBm6xW"
      },
      "outputs": [],
      "source": [
        "import torch\n",
        "from torchvision import transforms\n",
        "from torchvision import datasets\n",
        "from torch.utils.data import DataLoader\n",
        "import torch.nn.functional as F\n",
        "import torch.optim as optim"
      ]
    },
    {
      "cell_type": "code",
      "source": [
        "batch_size = 64\n",
        "transform = transforms.Compose([\n",
        "                                transforms.ToTensor(),\n",
        "                                transforms.Normalize((0.1307),(0.3081))\n",
        "                                ])\n",
        "\n",
        "train_dataset = datasets.MNIST(root='../dataset/mnist/',\n",
        "                               train = True,\n",
        "                               download = True,\n",
        "                               transform = transform)\n",
        "\n",
        "train_loader = DataLoader(train_dataset,\n",
        "                         shuffle = True,\n",
        "                         batch_size = batch_size)\n",
        "\n",
        "test_dataset = datasets.MNIST(\n",
        "    root='../dataset/mnist/',\n",
        "    train = False,\n",
        "    download = True,\n",
        "    transform = transform\n",
        ")\n",
        "\n",
        "test_loader = DataLoader(\n",
        "    test_dataset,\n",
        "    shuffle = False,\n",
        "    batch_size = batch_size\n",
        ")"
      ],
      "metadata": {
        "id": "qPTaSLjonTBc"
      },
      "execution_count": 32,
      "outputs": []
    },
    {
      "cell_type": "code",
      "source": [
        "class Net(torch.nn.Module):\n",
        "  def __init__(self):\n",
        "    super(Net,self).__init__()\n",
        "    self.l1 = torch.nn.Linear(784, 512)\n",
        "    self.l2 = torch.nn.Linear(512, 256)\n",
        "    self.l3 = torch.nn.Linear(256, 128)\n",
        "    self.l4 = torch.nn.Linear(128, 64)\n",
        "    self.l5 = torch.nn.Linear(64, 10)\n",
        "  def forward(self,x):\n",
        "    x = x.view(-1, 784)\n",
        "    x = F.relu(self.l1(x))\n",
        "    x = F.relu(self.l2(x))\n",
        "    x = F.relu(self.l3(x))\n",
        "    x = F.relu(self.l4(x))\n",
        "    return self.l5(x)\n",
        "model = Net()\n"
      ],
      "metadata": {
        "id": "vyugqWUAolqJ"
      },
      "execution_count": 33,
      "outputs": []
    },
    {
      "cell_type": "code",
      "source": [
        "criterion = torch.nn.CrossEntropyLoss()\n",
        "optimizer = optim.SGD(model.parameters(),lr=0.01,momentum=0.5)"
      ],
      "metadata": {
        "id": "mnRRkEoVpHyo"
      },
      "execution_count": 34,
      "outputs": []
    },
    {
      "cell_type": "code",
      "source": [
        "def train(epoch):\n",
        "  running_loss = 0.0\n",
        "  for batch_idx,data in enumerate(train_loader,0):\n",
        "    inputs,target = data\n",
        "    optimizer.zero_grad()\n",
        "\n",
        "    outputs = model(inputs)\n",
        "    loss = criterion(outputs,target)\n",
        "    loss.backward()\n",
        "    optimizer.step()\n",
        "\n",
        "    running_loss += loss.item()\n",
        "\n",
        "    if batch_idx % 300 == 299:\n",
        "      print('[%d, %5d] loss: %.3f' % (epoch + 1, batch_idx + 1, running_loss / 300))\n",
        "      running_loss = 0.0\n",
        "\n",
        "\n"
      ],
      "metadata": {
        "id": "3XcgFaecpU-T"
      },
      "execution_count": 35,
      "outputs": []
    },
    {
      "cell_type": "code",
      "source": [
        "def test():\n",
        "    correct = 0\n",
        "    total = 0\n",
        "    with torch.no_grad():\n",
        "        for data in test_loader:\n",
        "            images, labels = data\n",
        "            outputs = model(images)\n",
        "            _, predicted = torch.max(outputs.data, dim=1) # dim = 1 列是第0个维度，行是第1个维度\n",
        "            total += labels.size(0)\n",
        "            correct += (predicted == labels).sum().item() # 张量之间的比较运算\n",
        "    print('accuracy on test set: %d %% ' % (100*correct/total))"
      ],
      "metadata": {
        "id": "c38GqmyEqEDt"
      },
      "execution_count": 36,
      "outputs": []
    },
    {
      "cell_type": "code",
      "source": [
        "if __name__ == '__main__':\n",
        "  for epoch in range(10):\n",
        "    train(epoch)\n",
        "    test()"
      ],
      "metadata": {
        "colab": {
          "base_uri": "https://localhost:8080/"
        },
        "id": "zbkFCdBsqg22",
        "outputId": "ed9d9441-d797-46eb-aeb6-769be4531251"
      },
      "execution_count": 37,
      "outputs": [
        {
          "output_type": "stream",
          "name": "stdout",
          "text": [
            "[1,   300] loss: 2.189\n",
            "[1,   600] loss: 0.822\n",
            "[1,   900] loss: 0.406\n",
            "accuracy on test set: 89 % \n",
            "[2,   300] loss: 0.306\n",
            "[2,   600] loss: 0.266\n",
            "[2,   900] loss: 0.225\n",
            "accuracy on test set: 94 % \n",
            "[3,   300] loss: 0.185\n",
            "[3,   600] loss: 0.175\n",
            "[3,   900] loss: 0.149\n",
            "accuracy on test set: 95 % \n",
            "[4,   300] loss: 0.132\n",
            "[4,   600] loss: 0.116\n",
            "[4,   900] loss: 0.120\n",
            "accuracy on test set: 96 % \n",
            "[5,   300] loss: 0.095\n",
            "[5,   600] loss: 0.095\n",
            "[5,   900] loss: 0.097\n",
            "accuracy on test set: 96 % \n",
            "[6,   300] loss: 0.076\n",
            "[6,   600] loss: 0.075\n",
            "[6,   900] loss: 0.075\n",
            "accuracy on test set: 97 % \n",
            "[7,   300] loss: 0.059\n",
            "[7,   600] loss: 0.063\n",
            "[7,   900] loss: 0.061\n",
            "accuracy on test set: 97 % \n",
            "[8,   300] loss: 0.049\n",
            "[8,   600] loss: 0.046\n",
            "[8,   900] loss: 0.054\n",
            "accuracy on test set: 97 % \n",
            "[9,   300] loss: 0.038\n",
            "[9,   600] loss: 0.039\n",
            "[9,   900] loss: 0.042\n",
            "accuracy on test set: 97 % \n",
            "[10,   300] loss: 0.031\n",
            "[10,   600] loss: 0.030\n",
            "[10,   900] loss: 0.033\n",
            "accuracy on test set: 97 % \n"
          ]
        }
      ]
    }
  ]
}